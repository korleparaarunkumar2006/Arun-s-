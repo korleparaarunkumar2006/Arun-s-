{
  "cells": [
    {
      "cell_type": "code",
      "source": [
        "name=input(\"enter a string\")\n",
        "for i in name:\n",
        "    if i in \"aeiouAEIOU\":\n",
        "        print(i)\n",
        ""
      ],
      "metadata": {
        "colab": {
          "base_uri": "https://localhost:8080/"
        },
        "id": "nyG48jZf0HY0",
        "outputId": "17034bd2-d2a0-4e54-a543-7258ac369b23"
      },
      "id": "nyG48jZf0HY0",
      "execution_count": 7,
      "outputs": [
        {
          "output_type": "stream",
          "name": "stdout",
          "text": [
            "enter a stringarunkumar\n",
            "a\n",
            "u\n",
            "u\n",
            "a\n"
          ]
        }
      ]
    },
    {
      "cell_type": "code",
      "source": [
        "name=input(\"enter a string\")\n",
        "print(name[:-1])"
      ],
      "metadata": {
        "colab": {
          "base_uri": "https://localhost:8080/"
        },
        "id": "5B82Z2EH4K71",
        "outputId": "348e17c3-f02e-4906-e6b7-8b8569e7b2b3"
      },
      "id": "5B82Z2EH4K71",
      "execution_count": 16,
      "outputs": [
        {
          "output_type": "stream",
          "name": "stdout",
          "text": [
            "enter a stringarunkumar\n",
            "arunkuma\n"
          ]
        }
      ]
    },
    {
      "cell_type": "code",
      "source": [
        "name=input(\"enter a string\")\n",
        "len(name)"
      ],
      "metadata": {
        "colab": {
          "base_uri": "https://localhost:8080/"
        },
        "id": "b8gLN62k4k2F",
        "outputId": "7d294781-cfe4-46f8-a83c-06676543ff6e"
      },
      "id": "b8gLN62k4k2F",
      "execution_count": 12,
      "outputs": [
        {
          "name": "stdout",
          "output_type": "stream",
          "text": [
            "enter a stringarunkumar\n"
          ]
        },
        {
          "output_type": "execute_result",
          "data": {
            "text/plain": [
              "9"
            ]
          },
          "metadata": {},
          "execution_count": 12
        }
      ]
    },
    {
      "cell_type": "code",
      "source": [
        "name=input(\"enter a string\")\n",
        "for i in range(0,len(name)):\n",
        "    if (name[i]==name[-(i+1)]):\n",
        "        print(\"it is palindrome\")\n",
        "        break\n",
        "    else:\n",
        "        print(\"it is not palindrome\")\n",
        "        break"
      ],
      "metadata": {
        "colab": {
          "base_uri": "https://localhost:8080/"
        },
        "id": "OZvFv64q4_el",
        "outputId": "7b7fd252-a2c1-4133-af7a-ec37e4dff7bc"
      },
      "id": "OZvFv64q4_el",
      "execution_count": 32,
      "outputs": [
        {
          "output_type": "stream",
          "name": "stdout",
          "text": [
            "enter a stringmadam\n",
            "it is palindrome\n"
          ]
        }
      ]
    },
    {
      "cell_type": "code",
      "source": [
        "name=input(\"enter a string\")\n",
        "print(name.upper())\n",
        "print(name.lower())\n",
        "print(name[-1])\n",
        "print(name)\n",
        "print(name[-1::-1])"
      ],
      "metadata": {
        "colab": {
          "base_uri": "https://localhost:8080/"
        },
        "id": "qRyKJXpg8FNW",
        "outputId": "e5f5fe35-2c0e-4168-8dd1-481d2296d4ba"
      },
      "id": "qRyKJXpg8FNW",
      "execution_count": 43,
      "outputs": [
        {
          "output_type": "stream",
          "name": "stdout",
          "text": [
            "enter a stringARUNKUMAR\n",
            "ARUNKUMAR\n",
            "arunkumar\n",
            "R\n",
            "ARUNKUMAR\n",
            "RAMUKNURA\n"
          ]
        }
      ]
    },
    {
      "cell_type": "code",
      "source": [
        "name1=input(\"enter a first name\")\n",
        "name2=input(\"enter a second name\")\n",
        "print(name1+\" \"+name2)"
      ],
      "metadata": {
        "colab": {
          "base_uri": "https://localhost:8080/"
        },
        "id": "TQFoUi8A9cs-",
        "outputId": "427b21e4-41a6-40dd-d9fd-c056dd3d777b"
      },
      "id": "TQFoUi8A9cs-",
      "execution_count": 49,
      "outputs": [
        {
          "output_type": "stream",
          "name": "stdout",
          "text": [
            "enter a first nameArun\n",
            "enter a second nameKumar\n",
            "Arun Kumar\n"
          ]
        }
      ]
    },
    {
      "cell_type": "code",
      "source": [
        "a=int(input(\"enter a nuber\"))\n",
        "if(a%2==0):\n",
        "    print(\"even\")\n",
        "else:\n",
        "    print(\"odd\")"
      ],
      "metadata": {
        "colab": {
          "base_uri": "https://localhost:8080/"
        },
        "id": "jtOW1U9J_LbX",
        "outputId": "2eaf1db8-d746-4606-8f38-29c1c1fe3692"
      },
      "id": "jtOW1U9J_LbX",
      "execution_count": 52,
      "outputs": [
        {
          "output_type": "stream",
          "name": "stdout",
          "text": [
            "enter a nuber2\n",
            "even\n"
          ]
        }
      ]
    },
    {
      "cell_type": "code",
      "source": [
        "name=input(\"enter a name\")\n",
        "print(id(name))\n",
        "print(type(name))"
      ],
      "metadata": {
        "colab": {
          "base_uri": "https://localhost:8080/"
        },
        "id": "yZqOANsh_rK2",
        "outputId": "1d4e3cb6-f9b2-4281-f2b9-6dcaba45ee34"
      },
      "id": "yZqOANsh_rK2",
      "execution_count": 62,
      "outputs": [
        {
          "output_type": "stream",
          "name": "stdout",
          "text": [
            "enter a namearun\n",
            "136134497116400\n",
            "<class 'str'>\n"
          ]
        }
      ]
    },
    {
      "cell_type": "code",
      "source": [
        "name=input(\"enter a string\")\n",
        "name1=input(\"enter the finding value\")\n",
        "if name1 in name:\n",
        "    print(\"found\")\n",
        "else:\n",
        "    print(\"not found\")"
      ],
      "metadata": {
        "colab": {
          "base_uri": "https://localhost:8080/"
        },
        "id": "1IYAw5KIA6TW",
        "outputId": "3663b17d-4893-4027-e9af-50e8a222e1f6"
      },
      "id": "1IYAw5KIA6TW",
      "execution_count": 70,
      "outputs": [
        {
          "output_type": "stream",
          "name": "stdout",
          "text": [
            "enter a stringsri vasavi engineering college\n",
            "enter the finding valuevasavi\n",
            "found\n"
          ]
        }
      ]
    },
    {
      "cell_type": "code",
      "source": [
        "n=int(input(\"enter a number\"))\n",
        "for j in range(1,n+1):\n",
        "\n",
        "    a=int(input(\"enter the number\"))\n",
        "    c=0\n",
        "    for i in range(1,a+1):\n",
        "        if(a%i==0):\n",
        "          c=c+1\n",
        "    if(c==2):\n",
        "        print(\"it is prime\")\n",
        "    else:\n",
        "        print(\"it is not prime\")\n"
      ],
      "metadata": {
        "colab": {
          "base_uri": "https://localhost:8080/"
        },
        "id": "lHx5FgWMDoe3",
        "outputId": "175f04d3-a897-4227-f671-feb5ef61907b"
      },
      "id": "lHx5FgWMDoe3",
      "execution_count": 94,
      "outputs": [
        {
          "output_type": "stream",
          "name": "stdout",
          "text": [
            "enter the number6\n",
            "it is not prime\n"
          ]
        }
      ]
    },
    {
      "cell_type": "code",
      "source": [],
      "metadata": {
        "id": "nKnGve32JZzY"
      },
      "id": "nKnGve32JZzY",
      "execution_count": null,
      "outputs": []
    }
  ],
  "metadata": {
    "kernelspec": {
      "display_name": "Python 3",
      "name": "python3"
    },
    "language_info": {
      "name": "python"
    },
    "required_libs": [],
    "colab": {
      "provenance": []
    }
  },
  "nbformat": 4,
  "nbformat_minor": 5
}