{
  "cells": [
    {
      "cell_type": "code",
      "source": [
        "l=[10,20,30,40,50]\n",
        "nl=[i*3 for i in l]\n",
        "print(nl)"
      ],
      "metadata": {
        "colab": {
          "base_uri": "https://localhost:8080/"
        },
        "id": "T2moOE36AlKe",
        "outputId": "e8521aee-a318-4cb4-80e7-d1e202663956"
      },
      "id": "T2moOE36AlKe",
      "execution_count": 1,
      "outputs": [
        {
          "output_type": "stream",
          "name": "stdout",
          "text": [
            "[30, 60, 90, 120, 150]\n"
          ]
        }
      ]
    },
    {
      "cell_type": "code",
      "source": [
        "from functools import reduce\n",
        "n=[1,2,3,4,5,6,7]\n",
        "p=reduce(lambda x,y:x*y,n)\n",
        "print(p)"
      ],
      "metadata": {
        "colab": {
          "base_uri": "https://localhost:8080/"
        },
        "id": "OVJBI4a1BUWl",
        "outputId": "73c8f824-03a5-4bfc-d3a1-4099d042d62e"
      },
      "id": "OVJBI4a1BUWl",
      "execution_count": 89,
      "outputs": [
        {
          "output_type": "stream",
          "name": "stdout",
          "text": [
            "5040\n"
          ]
        }
      ]
    },
    {
      "cell_type": "code",
      "source": [
        "n=[1,2,3,4,5,6]\n",
        "p=reduce(lambda x,y:x+y,n)\n",
        "print(p)"
      ],
      "metadata": {
        "colab": {
          "base_uri": "https://localhost:8080/"
        },
        "id": "p05_8VdPCUeU",
        "outputId": "98984239-d97f-4eb2-91d7-646d80f54e63"
      },
      "id": "p05_8VdPCUeU",
      "execution_count": 11,
      "outputs": [
        {
          "output_type": "stream",
          "name": "stdout",
          "text": [
            "21\n"
          ]
        }
      ]
    },
    {
      "cell_type": "code",
      "source": [
        "from functools import reduce\n",
        "n=[1,2,3,4,5,6]\n",
        "\n",
        "p1=reduce(lambda x,y:x+y,n)\n",
        "print(p1)"
      ],
      "metadata": {
        "colab": {
          "base_uri": "https://localhost:8080/"
        },
        "id": "wDX_Vqi_Djct",
        "outputId": "d5ce95aa-f3b7-42fd-c67e-dc16f6b5137f"
      },
      "id": "wDX_Vqi_Djct",
      "execution_count": 19,
      "outputs": [
        {
          "output_type": "stream",
          "name": "stdout",
          "text": [
            "21\n"
          ]
        }
      ]
    },
    {
      "cell_type": "code",
      "source": [
        "import math\n",
        "factorial(10)\n"
      ],
      "metadata": {
        "colab": {
          "base_uri": "https://localhost:8080/"
        },
        "id": "NUyyz6U6Ehnc",
        "outputId": "154dc7de-fb4b-4501-9741-8d38c46e0766"
      },
      "id": "NUyyz6U6Ehnc",
      "execution_count": 33,
      "outputs": [
        {
          "output_type": "execute_result",
          "data": {
            "text/plain": [
              "3628800"
            ]
          },
          "metadata": {},
          "execution_count": 33
        }
      ]
    },
    {
      "cell_type": "code",
      "source": [
        "from google.colab import drive\n",
        "drive.mount('/content/drive')"
      ],
      "metadata": {
        "id": "Nzk0Xw8nFxer"
      },
      "id": "Nzk0Xw8nFxer",
      "execution_count": null,
      "outputs": []
    },
    {
      "cell_type": "code",
      "source": [
        "import math\n",
        "gcd(10,20)"
      ],
      "metadata": {
        "colab": {
          "base_uri": "https://localhost:8080/"
        },
        "id": "qE43FN_IFAaU",
        "outputId": "086845f4-6fed-413d-f47b-2176e31c325e"
      },
      "id": "qE43FN_IFAaU",
      "execution_count": 27,
      "outputs": [
        {
          "output_type": "execute_result",
          "data": {
            "text/plain": [
              "10"
            ]
          },
          "metadata": {},
          "execution_count": 27
        }
      ]
    },
    {
      "cell_type": "code",
      "source": [
        "a=1,2,3,4,5,6,1,1,1\n",
        "#print(type(a))\n",
        "b=(7,8,9,10)\n",
        "#print(type(b))\n",
        "c=tuple(range(11))\n",
        "print(c)\n",
        "print(a.count(1))\n",
        "print(max(b))\n",
        "print(min(c))\n",
        "print(a.index(5))\n",
        "d=a,b\n",
        "print(d)\n",
        "print(min(d))\n",
        "\n"
      ],
      "metadata": {
        "colab": {
          "base_uri": "https://localhost:8080/"
        },
        "id": "N_HMZU_5GbbV",
        "outputId": "8699c762-f1ce-4a35-bc94-a127be4b4d2e"
      },
      "id": "N_HMZU_5GbbV",
      "execution_count": 52,
      "outputs": [
        {
          "output_type": "stream",
          "name": "stdout",
          "text": [
            "(0, 1, 2, 3, 4, 5, 6, 7, 8, 9, 10)\n",
            "4\n",
            "10\n",
            "0\n",
            "4\n",
            "((1, 2, 3, 4, 5, 6, 1, 1, 1), (7, 8, 9, 10))\n",
            "(1, 2, 3, 4, 5, 6, 1, 1, 1)\n"
          ]
        }
      ]
    },
    {
      "cell_type": "code",
      "source": [
        "a1=\"arun\",20,\"cst\"\n",
        "name,Age,course=a1\n",
        "print(name,course,Age)"
      ],
      "metadata": {
        "colab": {
          "base_uri": "https://localhost:8080/"
        },
        "id": "Nr9e-dEfH1gF",
        "outputId": "6ce9f2c7-ddd3-4b3b-a456-dff744e0a61f"
      },
      "id": "Nr9e-dEfH1gF",
      "execution_count": 54,
      "outputs": [
        {
          "output_type": "stream",
          "name": "stdout",
          "text": [
            "arun cst 20\n"
          ]
        }
      ]
    },
    {
      "cell_type": "code",
      "source": [
        "s={1,2,3,4,6}\n",
        "print(type(s))\n",
        "s1={}\n",
        "s1=s\n",
        "print(s1)\n",
        "print(s)\n",
        "s1.add(8)\n",
        "s.add(5)\n",
        "\n",
        "print(s1)"
      ],
      "metadata": {
        "colab": {
          "base_uri": "https://localhost:8080/"
        },
        "id": "vHRb8m0sI114",
        "outputId": "2802fd8c-02cd-4644-bfce-0403948f5a92"
      },
      "id": "vHRb8m0sI114",
      "execution_count": 63,
      "outputs": [
        {
          "output_type": "stream",
          "name": "stdout",
          "text": [
            "<class 'set'>\n",
            "{1, 2, 3, 4, 6}\n",
            "{1, 2, 3, 4, 6}\n",
            "{1, 2, 3, 4, 5, 6, 8}\n"
          ]
        }
      ]
    },
    {
      "cell_type": "code",
      "source": [
        "s2={10,20,30,40,50}\n",
        "print(s2)\n",
        "s2.remove(10)\n",
        "print(s2)\n",
        "s2.add(100)\n",
        "print(s2)\n"
      ],
      "metadata": {
        "colab": {
          "base_uri": "https://localhost:8080/"
        },
        "id": "xLirjquOKIVM",
        "outputId": "38fd58c6-0c28-4f5d-81ee-4040a2aa9072"
      },
      "id": "xLirjquOKIVM",
      "execution_count": 69,
      "outputs": [
        {
          "output_type": "stream",
          "name": "stdout",
          "text": [
            "{50, 20, 40, 10, 30}\n",
            "{50, 20, 40, 30}\n",
            "{50, 20, 100, 40, 30}\n"
          ]
        }
      ]
    },
    {
      "cell_type": "code",
      "source": [
        "l1=[10,20,30,10,20,30]\n",
        "s3=set(l1)\n",
        "print(type(s3))\n",
        "s3.update([40,50])\n",
        "print(s3)\n",
        "s3.pop()\n",
        "print(s3)\n",
        "s3.clear()\n",
        "print(s3)\n",
        "\n"
      ],
      "metadata": {
        "colab": {
          "base_uri": "https://localhost:8080/"
        },
        "id": "WfDwtRBAKRZ7",
        "outputId": "c4d4d350-16fb-4629-d92b-6fe84a042ccc"
      },
      "id": "WfDwtRBAKRZ7",
      "execution_count": 82,
      "outputs": [
        {
          "output_type": "stream",
          "name": "stdout",
          "text": [
            "<class 'set'>\n",
            "{40, 10, 50, 20, 30}\n",
            "{10, 50, 20, 30}\n",
            "set()\n"
          ]
        }
      ]
    },
    {
      "cell_type": "code",
      "source": [
        "l=[1,2,3,4,5,6,7,8,9,0,10]\n",
        "e=list(filter(lambda x:x%2==0,l))\n",
        "print(e)"
      ],
      "metadata": {
        "colab": {
          "base_uri": "https://localhost:8080/"
        },
        "id": "H76ygLMNMqqz",
        "outputId": "0f078edd-375a-4ce8-82c7-0062a6508f54"
      },
      "id": "H76ygLMNMqqz",
      "execution_count": 98,
      "outputs": [
        {
          "output_type": "stream",
          "name": "stdout",
          "text": [
            "[2, 4, 6, 8, 0, 10]\n"
          ]
        }
      ]
    },
    {
      "cell_type": "code",
      "source": [
        "s4={10,20,30,40,50}\n",
        "s5={40,50,60,70,80}\n",
        "s6={1,3,2,7,4,33,55,100,22}\n",
        "s7\n",
        "print(s4.union(s5))\n",
        "print(s4.intersection(s5))\n",
        "print(s4-s5)\n",
        "print(s4.symmetric_difference(s5))\n",
        "print(sorted(s6))\n",
        "print(s4|s5)\n",
        "print(s4&s5)\n",
        "print(s4-s5)\n",
        "print(s4^s5)\n"
      ],
      "metadata": {
        "id": "fLncSJesOuSb",
        "outputId": "b7b180b0-ccf6-423d-977a-61394464acd9",
        "colab": {
          "base_uri": "https://localhost:8080/"
        }
      },
      "id": "fLncSJesOuSb",
      "execution_count": 107,
      "outputs": [
        {
          "output_type": "stream",
          "name": "stdout",
          "text": [
            "{70, 40, 10, 80, 50, 20, 60, 30}\n",
            "{40, 50}\n",
            "{10, 20, 30}\n",
            "{80, 20, 70, 10, 60, 30}\n",
            "[1, 2, 3, 4, 7, 22, 33, 55, 100]\n",
            "{70, 40, 10, 80, 50, 20, 60, 30}\n",
            "{40, 50}\n",
            "{10, 20, 30}\n",
            "{80, 20, 70, 10, 60, 30}\n"
          ]
        }
      ]
    },
    {
      "cell_type": "code",
      "source": [],
      "metadata": {
        "id": "Af1oIxnlPoaD"
      },
      "id": "Af1oIxnlPoaD",
      "execution_count": null,
      "outputs": []
    }
  ],
  "metadata": {
    "kernelspec": {
      "display_name": "Python 3",
      "name": "python3"
    },
    "language_info": {
      "name": "python"
    },
    "required_libs": [],
    "colab": {
      "provenance": []
    }
  },
  "nbformat": 4,
  "nbformat_minor": 5
}